{
 "cells": [
  {
   "cell_type": "markdown",
   "metadata": {},
   "source": [
    "# 1.1 Tensor"
   ]
  },
  {
   "cell_type": "code",
   "execution_count": 26,
   "metadata": {},
   "outputs": [],
   "source": [
    "# 1. Import pytorch\n",
    "import torch    "
   ]
  },
  {
   "cell_type": "code",
   "execution_count": 28,
   "metadata": {},
   "outputs": [
    {
     "name": "stdout",
     "output_type": "stream",
     "text": [
      "tensor([[5.0445e-35, 0.0000e+00, 4.9888e-35],\n",
      "        [0.0000e+00, 4.4842e-44, 0.0000e+00],\n",
      "        [6.7262e-44, 0.0000e+00, 5.0574e-35],\n",
      "        [0.0000e+00, 0.0000e+00, 0.0000e+00],\n",
      "        [1.4013e-45, 0.0000e+00, 9.1084e-44]])\n"
     ]
    }
   ],
   "source": [
    "# 2. create a new 5x3 tensor\n",
    "x = torch.empty(5, 3)\n",
    "print(x)"
   ]
  },
  {
   "cell_type": "code",
   "execution_count": 36,
   "metadata": {},
   "outputs": [
    {
     "name": "stdout",
     "output_type": "stream",
     "text": [
      "tensor([[0.4263, 0.8481, 0.7796],\n",
      "        [0.9051, 0.6010, 0.5277],\n",
      "        [0.7984, 0.8451, 0.0692],\n",
      "        [0.3139, 0.5813, 0.9895],\n",
      "        [0.4326, 0.1387, 0.5032]])\n"
     ]
    }
   ],
   "source": [
    "# 3. create a rand 5x3 tensor\n",
    "x = torch.rand(5, 3)\n",
    "print(x)\n",
    "\n",
    "# to create a rand int 5x3 tensor\n",
    "# x = torch.randint(low=0, high=10, size=(5, 3), dtype=torch.int)\n",
    "# print(x)"
   ]
  },
  {
   "cell_type": "code",
   "execution_count": 37,
   "metadata": {},
   "outputs": [
    {
     "name": "stdout",
     "output_type": "stream",
     "text": [
      "tensor([[          109497944, 4605814430377181184, 4605197204385169408],\n",
      "        [4606327765405270016, 4603588379966177280, 4602928304696066048],\n",
      "        [4605366518975299584, 4605787489657946112, 4589652230608519168],\n",
      "        [4599325730688466944, 4603411195922219008, 4607087970321694720],\n",
      "        [4601464422538412032, 4594164866847080448, 4602707490763702272]])\n"
     ]
    }
   ],
   "source": [
    "# 4. create a 5x3 empty tensor, assign type as long\n",
    "x = torch.empty(5, 3, dtype=torch.long)\n",
    "print(x)"
   ]
  },
  {
   "cell_type": "code",
   "execution_count": 38,
   "metadata": {},
   "outputs": [
    {
     "name": "stdout",
     "output_type": "stream",
     "text": [
      "tensor([5, 3])\n"
     ]
    }
   ],
   "source": [
    "# 5. create a tensor from a given array\n",
    "x = torch.tensor([5,3])\n",
    "print(x)"
   ]
  },
  {
   "cell_type": "code",
   "execution_count": 39,
   "metadata": {},
   "outputs": [
    {
     "name": "stdout",
     "output_type": "stream",
     "text": [
      "tensor([[1., 1., 1.],\n",
      "        [1., 1., 1.],\n",
      "        [1., 1., 1.],\n",
      "        [1., 1., 1.],\n",
      "        [1., 1., 1.]], dtype=torch.float64)\n"
     ]
    }
   ],
   "source": [
    "# 6. create a 5x3 unit tensor, type is double\n",
    "x = torch.ones(5,3, dtype=torch.double)\n",
    "print(x)"
   ]
  },
  {
   "cell_type": "code",
   "execution_count": 41,
   "metadata": {},
   "outputs": [
    {
     "name": "stdout",
     "output_type": "stream",
     "text": [
      "tensor([[0.1899, 0.8358, 0.2715],\n",
      "        [0.5146, 0.4080, 0.1280],\n",
      "        [0.7226, 0.9257, 0.5394],\n",
      "        [0.6322, 0.2115, 0.0198],\n",
      "        [0.9839, 0.9529, 0.6378]])\n"
     ]
    }
   ],
   "source": [
    "# 7. create a tensor from a given tensor with the same dim, and redefine the type as float\n",
    "x = torch.rand_like(x, dtype=torch.float)\n",
    "print(x)"
   ]
  },
  {
   "cell_type": "code",
   "execution_count": 44,
   "metadata": {},
   "outputs": [
    {
     "name": "stdout",
     "output_type": "stream",
     "text": [
      "torch.Size([5, 3])\n"
     ]
    }
   ],
   "source": [
    "# 8. print a tensor's dim\n",
    "print(x.size())"
   ]
  },
  {
   "cell_type": "code",
   "execution_count": 49,
   "metadata": {},
   "outputs": [
    {
     "name": "stdout",
     "output_type": "stream",
     "text": [
      "tensor([[5.2302, 4.4630, 5.9696],\n",
      "        [3.8187, 4.3267, 4.7834],\n",
      "        [6.4447, 7.2001, 4.8216],\n",
      "        [6.6190, 7.1720, 2.7113],\n",
      "        [7.5886, 5.3152, 4.5408]])\n",
      "tensor([[5.9354, 4.8969, 6.9626],\n",
      "        [3.8614, 4.7555, 5.2285],\n",
      "        [7.1472, 8.1632, 5.4949],\n",
      "        [6.7404, 7.9783, 3.4300],\n",
      "        [8.5711, 6.2545, 4.7069]])\n",
      "tensor([[6.6407, 5.3308, 7.9556],\n",
      "        [3.9042, 5.1843, 5.6735],\n",
      "        [7.8497, 9.1263, 6.1682],\n",
      "        [6.8619, 8.7846, 4.1487],\n",
      "        [9.5535, 7.1938, 4.8731]])\n",
      "tensor([[6.6407, 5.3308, 7.9556],\n",
      "        [3.9042, 5.1843, 5.6735],\n",
      "        [7.8497, 9.1263, 6.1682],\n",
      "        [6.8619, 8.7846, 4.1487],\n",
      "        [9.5535, 7.1938, 4.8731]])\n"
     ]
    }
   ],
   "source": [
    "# 9.sum two tensor\n",
    "y = torch.rand_like(x)\n",
    "x = y + x\n",
    "print(x)\n",
    "\n",
    "# method 2 - use torch.add\n",
    "x = torch.add(x, y)\n",
    "print(x)\n",
    "\n",
    "# method 3 - use result\n",
    "result = torch.empty_like(x)    \n",
    "torch.add(x, y, out= result)\n",
    "print(result)\n",
    "# method 4 - in place operation\n",
    "x.add_(y)\n",
    "print(x)\n"
   ]
  },
  {
   "cell_type": "code",
   "execution_count": 50,
   "metadata": {},
   "outputs": [
    {
     "name": "stdout",
     "output_type": "stream",
     "text": [
      "tensor([5.3308, 5.1843, 9.1263, 8.7846, 7.1938])\n"
     ]
    }
   ],
   "source": [
    "# 10. print a tensor's first col\n",
    "print(x[:,1])"
   ]
  },
  {
   "cell_type": "code",
   "execution_count": 53,
   "metadata": {},
   "outputs": [
    {
     "name": "stdout",
     "output_type": "stream",
     "text": [
      "tensor([6.6407, 5.3308, 7.9556, 3.9042, 5.1843, 5.6735, 7.8497, 9.1263, 6.1682,\n",
      "        6.8619, 8.7846, 4.1487, 9.5535, 7.1938, 4.8731])\n",
      "tensor([6.6407, 5.3308, 7.9556, 3.9042, 5.1843, 5.6735, 7.8497, 9.1263, 6.1682,\n",
      "        6.8619, 8.7846, 4.1487, 9.5535, 7.1938, 4.8731])\n"
     ]
    }
   ],
   "source": [
    "# 11. reshape a 4x4 tensor to a 1d array tensor\n",
    "y = x.flatten()\n",
    "print(y)\n",
    "\n",
    "y = x.reshape([-1])\n",
    "print(y)"
   ]
  },
  {
   "cell_type": "code",
   "execution_count": 55,
   "metadata": {},
   "outputs": [
    {
     "name": "stdout",
     "output_type": "stream",
     "text": [
      "tensor([[0.9929, 0.8525, 0.0235, 0.5199, 0.8238, 0.6393, 0.5964, 0.1946],\n",
      "        [0.6378, 0.3775, 0.1404, 0.2933, 0.2193, 0.0268, 0.7985, 0.4267]])\n"
     ]
    }
   ],
   "source": [
    "# 12. reshape a 4x4 tensor to a 2x8 tensor\n",
    "x = torch.rand(4, 4)\n",
    "x = x.reshape([2, -1])\n",
    "print(x)\n"
   ]
  },
  {
   "cell_type": "code",
   "execution_count": 65,
   "metadata": {},
   "outputs": [
    {
     "name": "stdout",
     "output_type": "stream",
     "text": [
      "0.2932972311973572\n"
     ]
    }
   ],
   "source": [
    "# 13. extract the number(item) from the tensor\n",
    "x.size()\n",
    "\n",
    "print(x[1,3].item())"
   ]
  },
  {
   "cell_type": "code",
   "execution_count": null,
   "metadata": {},
   "outputs": [],
   "source": []
  }
 ],
 "metadata": {
  "kernelspec": {
   "display_name": "py39",
   "language": "python",
   "name": "python3"
  },
  "language_info": {
   "codemirror_mode": {
    "name": "ipython",
    "version": 3
   },
   "file_extension": ".py",
   "mimetype": "text/x-python",
   "name": "python",
   "nbconvert_exporter": "python",
   "pygments_lexer": "ipython3",
   "version": "3.9.18"
  }
 },
 "nbformat": 4,
 "nbformat_minor": 2
}
